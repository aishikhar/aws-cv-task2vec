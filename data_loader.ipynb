{
 "metadata": {
  "language_info": {
   "codemirror_mode": {
    "name": "ipython",
    "version": 3
   },
   "file_extension": ".py",
   "mimetype": "text/x-python",
   "name": "python",
   "nbconvert_exporter": "python",
   "pygments_lexer": "ipython3",
   "version": "3.7.10"
  },
  "orig_nbformat": 2,
  "kernelspec": {
   "name": "python3710jvsc74a57bd055cd0875620963c5442b7d59b0722375428dccb5a93c2d0c174dd0269f2c2857",
   "display_name": "Python 3.7.10 64-bit ('avalanche-dev-env': conda)"
  }
 },
 "nbformat": 4,
 "nbformat_minor": 2,
 "cells": [
  {
   "cell_type": "code",
   "execution_count": 9,
   "metadata": {},
   "outputs": [],
   "source": [
    "from task2vec import Task2Vec\n",
    "from models import get_model\n",
    "import datasets\n",
    "import task_similarity\n",
    "import argparse\n",
    "import torch\n",
    "import torch.nn.functional as F\n",
    "import torchvision.transforms as tt\n",
    "from tqdm import tqdm\n",
    "from synbols_utils import Synbols\n",
    "import pandas as pd"
   ]
  },
  {
   "cell_type": "code",
   "execution_count": 9,
   "metadata": {},
   "outputs": [],
   "source": [
    "\n"
   ]
  },
  {
   "cell_type": "code",
   "execution_count": 44,
   "metadata": {},
   "outputs": [],
   "source": [
    "def data_pipeline(selected_languages, selected_attrs):\n",
    "\n",
    "    def select(data, langs, attrs):\n",
    "        select = data[(data['lang'].isin(langs)) & (data['attr'].isin(attrs))]\n",
    "        return select\n",
    "    def merge(saved, ref):\n",
    "        data = pd.DataFrame(saved)\n",
    "        data['lang'] = ref['lang']\n",
    "        data['attr'] = ref['attr']\n",
    "        data['name'] = ref['name']\n",
    "        return data\n",
    "\n",
    "    saved = torch.load('all.pt')\n",
    "    seed = 123\n",
    "    ref = pd.read_csv('ref.csv', index_col = 0)\n",
    "    data = merge(saved, ref)\n",
    "    data = select(data=data, langs = selected_languages, attrs = selected_attrs)\n",
    "    Z = [x.hessian for x in data[0].to_numpy()]\n",
    "    return Z, data.reset_index(drop=True)"
   ]
  },
  {
   "cell_type": "code",
   "execution_count": 45,
   "metadata": {},
   "outputs": [],
   "source": [
    "selected_languages = ['english','tamil','malayalam', 'japanese','chinese']\n",
    "selected_attrs = ['natural', 'gradient', 'scaled', 'std']\n"
   ]
  },
  {
   "cell_type": "code",
   "execution_count": 55,
   "metadata": {},
   "outputs": [],
   "source": [
    "Z, data = data_pipeline(selected_languages, selected_attrs)\n",
    "Z_tensor = torch.tensor(Z)\n",
    "task2vec_dim = Z_tensor.shape[1]\n",
    "M = Z_tensor.shape[0] # No of Task vectors\n",
    "latent_dim = 128"
   ]
  },
  {
   "cell_type": "code",
   "execution_count": 56,
   "metadata": {},
   "outputs": [],
   "source": []
  },
  {
   "cell_type": "code",
   "execution_count": 51,
   "metadata": {},
   "outputs": [
    {
     "output_type": "execute_result",
     "data": {
      "text/plain": [
       "torch.Size([20, 13824])"
      ]
     },
     "metadata": {},
     "execution_count": 51
    }
   ],
   "source": [
    "Z_tensor.shape"
   ]
  },
  {
   "cell_type": "code",
   "execution_count": 6,
   "metadata": {},
   "outputs": [],
   "source": []
  },
  {
   "cell_type": "code",
   "execution_count": 7,
   "metadata": {},
   "outputs": [
    {
     "output_type": "execute_result",
     "data": {
      "text/plain": [
       "                                                 0      lang        attr  \\\n",
       "0    <task2vec.Embedding object at 0x7f7589d99350>     khmer      italic   \n",
       "1    <task2vec.Embedding object at 0x7f7589d99590>    telugu     natural   \n",
       "2    <task2vec.Embedding object at 0x7f7595ac0e10>  gujarati      italic   \n",
       "3    <task2vec.Embedding object at 0x7f7591ae7bd0>   chinese    gradient   \n",
       "4    <task2vec.Embedding object at 0x7f7594cad4d0>     tamil      italic   \n",
       "..                                             ...       ...         ...   \n",
       "130  <task2vec.Embedding object at 0x7f7589b18d50>    bangla     natural   \n",
       "131  <task2vec.Embedding object at 0x7f7589b18e90>   english  translated   \n",
       "132  <task2vec.Embedding object at 0x7f7589b18fd0>   russian     natural   \n",
       "133  <task2vec.Embedding object at 0x7f7589b1b150>      thai      italic   \n",
       "134  <task2vec.Embedding object at 0x7f7589b1b290>    telugu      italic   \n",
       "\n",
       "                        name  \n",
       "0          khmer_italic.h5py  \n",
       "1        telugu_natural.h5py  \n",
       "2       gujarati_italic.h5py  \n",
       "3      chinese_gradient.h5py  \n",
       "4          tamil_italic.h5py  \n",
       "..                       ...  \n",
       "130      bangla_natural.h5py  \n",
       "131  english_translated.h5py  \n",
       "132     russian_natural.h5py  \n",
       "133         thai_italic.h5py  \n",
       "134       telugu_italic.h5py  \n",
       "\n",
       "[135 rows x 4 columns]"
      ],
      "text/html": "<div>\n<style scoped>\n    .dataframe tbody tr th:only-of-type {\n        vertical-align: middle;\n    }\n\n    .dataframe tbody tr th {\n        vertical-align: top;\n    }\n\n    .dataframe thead th {\n        text-align: right;\n    }\n</style>\n<table border=\"1\" class=\"dataframe\">\n  <thead>\n    <tr style=\"text-align: right;\">\n      <th></th>\n      <th>0</th>\n      <th>lang</th>\n      <th>attr</th>\n      <th>name</th>\n    </tr>\n  </thead>\n  <tbody>\n    <tr>\n      <th>0</th>\n      <td>&lt;task2vec.Embedding object at 0x7f7589d99350&gt;</td>\n      <td>khmer</td>\n      <td>italic</td>\n      <td>khmer_italic.h5py</td>\n    </tr>\n    <tr>\n      <th>1</th>\n      <td>&lt;task2vec.Embedding object at 0x7f7589d99590&gt;</td>\n      <td>telugu</td>\n      <td>natural</td>\n      <td>telugu_natural.h5py</td>\n    </tr>\n    <tr>\n      <th>2</th>\n      <td>&lt;task2vec.Embedding object at 0x7f7595ac0e10&gt;</td>\n      <td>gujarati</td>\n      <td>italic</td>\n      <td>gujarati_italic.h5py</td>\n    </tr>\n    <tr>\n      <th>3</th>\n      <td>&lt;task2vec.Embedding object at 0x7f7591ae7bd0&gt;</td>\n      <td>chinese</td>\n      <td>gradient</td>\n      <td>chinese_gradient.h5py</td>\n    </tr>\n    <tr>\n      <th>4</th>\n      <td>&lt;task2vec.Embedding object at 0x7f7594cad4d0&gt;</td>\n      <td>tamil</td>\n      <td>italic</td>\n      <td>tamil_italic.h5py</td>\n    </tr>\n    <tr>\n      <th>...</th>\n      <td>...</td>\n      <td>...</td>\n      <td>...</td>\n      <td>...</td>\n    </tr>\n    <tr>\n      <th>130</th>\n      <td>&lt;task2vec.Embedding object at 0x7f7589b18d50&gt;</td>\n      <td>bangla</td>\n      <td>natural</td>\n      <td>bangla_natural.h5py</td>\n    </tr>\n    <tr>\n      <th>131</th>\n      <td>&lt;task2vec.Embedding object at 0x7f7589b18e90&gt;</td>\n      <td>english</td>\n      <td>translated</td>\n      <td>english_translated.h5py</td>\n    </tr>\n    <tr>\n      <th>132</th>\n      <td>&lt;task2vec.Embedding object at 0x7f7589b18fd0&gt;</td>\n      <td>russian</td>\n      <td>natural</td>\n      <td>russian_natural.h5py</td>\n    </tr>\n    <tr>\n      <th>133</th>\n      <td>&lt;task2vec.Embedding object at 0x7f7589b1b150&gt;</td>\n      <td>thai</td>\n      <td>italic</td>\n      <td>thai_italic.h5py</td>\n    </tr>\n    <tr>\n      <th>134</th>\n      <td>&lt;task2vec.Embedding object at 0x7f7589b1b290&gt;</td>\n      <td>telugu</td>\n      <td>italic</td>\n      <td>telugu_italic.h5py</td>\n    </tr>\n  </tbody>\n</table>\n<p>135 rows × 4 columns</p>\n</div>"
     },
     "metadata": {},
     "execution_count": 7
    }
   ],
   "source": [
    "data"
   ]
  },
  {
   "cell_type": "code",
   "execution_count": null,
   "metadata": {},
   "outputs": [],
   "source": []
  }
 ]
}