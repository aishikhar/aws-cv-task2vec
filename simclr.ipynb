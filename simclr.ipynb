{
 "metadata": {
  "language_info": {
   "codemirror_mode": {
    "name": "ipython",
    "version": 3
   },
   "file_extension": ".py",
   "mimetype": "text/x-python",
   "name": "python",
   "nbconvert_exporter": "python",
   "pygments_lexer": "ipython3",
   "version": "3.7.10"
  },
  "orig_nbformat": 2,
  "kernelspec": {
   "name": "python3710jvsc74a57bd055cd0875620963c5442b7d59b0722375428dccb5a93c2d0c174dd0269f2c2857",
   "display_name": "Python 3.7.10 64-bit ('avalanche-dev-env': conda)"
  }
 },
 "nbformat": 4,
 "nbformat_minor": 2,
 "cells": [
  {
   "cell_type": "code",
   "execution_count": 4,
   "metadata": {},
   "outputs": [],
   "source": [
    "from task2vec import Task2Vec\n",
    "from models import get_model\n",
    "import datasets\n",
    "import task_similarity\n",
    "import argparse\n",
    "import torch\n",
    "import torch.nn.functional as F\n",
    "import torchvision.transforms as tt\n",
    "from tqdm import tqdm\n",
    "from easydict import EasyDict as edict"
   ]
  },
  {
   "cell_type": "code",
   "execution_count": 35,
   "metadata": {},
   "outputs": [],
   "source": [
    "args = edict()\n",
    "args.batch_size = 135\n",
    "args.n_views = 2\n",
    "args.device = 'cpu'\n",
    "args.temperature = 3"
   ]
  },
  {
   "cell_type": "code",
   "execution_count": 36,
   "metadata": {},
   "outputs": [],
   "source": [
    "saved = torch.load('all.pt')\n",
    "seed = 123"
   ]
  },
  {
   "cell_type": "code",
   "execution_count": 59,
   "metadata": {},
   "outputs": [],
   "source": [
    "Z = [z.hessian for z in saved]\n",
    "features = torch.cat([torch.tensor(Z),torch.tensor(Z)], axis = 0)"
   ]
  },
  {
   "cell_type": "code",
   "execution_count": 60,
   "metadata": {},
   "outputs": [],
   "source": [
    "labels = torch.cat([torch.arange(args.batch_size) for i in range(args.n_views)], dim=0)\n",
    "labels = (labels.unsqueeze(0) == labels.unsqueeze(1)).float()\n",
    "\n",
    "features = F.normalize(features, dim=1)\n",
    "\n",
    "similarity_matrix = torch.matmul(features, features.T)"
   ]
  },
  {
   "cell_type": "code",
   "execution_count": 61,
   "metadata": {},
   "outputs": [],
   "source": [
    "mask = torch.eye(labels.shape[0], dtype=torch.bool)\n",
    "labels = labels[~mask].view(labels.shape[0], -1)"
   ]
  },
  {
   "cell_type": "code",
   "execution_count": 62,
   "metadata": {},
   "outputs": [],
   "source": [
    "similarity_matrix = similarity_matrix[~mask].view(similarity_matrix.shape[0], -1)"
   ]
  },
  {
   "cell_type": "code",
   "execution_count": 63,
   "metadata": {},
   "outputs": [],
   "source": [
    "\n",
    "\n",
    "# assert similarity_matrix.shape == (\n",
    "#     self.args.n_views * self.args.batch_size, self.args.n_views * self.args.batch_size)\n",
    "# assert similarity_matrix.shape == labels.shape\n",
    "\n",
    "# discard the main diagonal from both: labels and similarities matrix\n",
    "\n",
    "# assert similarity_matrix.shape == labels.shape\n",
    "\n",
    "# select and combine multiple positives\n",
    "positives = similarity_matrix[labels.bool()].view(labels.shape[0], -1)\n",
    "\n",
    "# select only the negatives the negatives\n",
    "negatives = similarity_matrix[~labels.bool()].view(similarity_matrix.shape[0], -1)\n",
    "\n",
    "logits = torch.cat([positives, negatives], dim=1)\n",
    "labels = torch.zeros(logits.shape[0], dtype=torch.long)\n",
    "\n",
    "logits = logits / args.temperature"
   ]
  },
  {
   "cell_type": "code",
   "execution_count": 64,
   "metadata": {},
   "outputs": [
    {
     "output_type": "execute_result",
     "data": {
      "text/plain": [
       "torch.Size([270, 268])"
      ]
     },
     "metadata": {},
     "execution_count": 64
    }
   ],
   "source": [
    "negatives.shape"
   ]
  },
  {
   "cell_type": "code",
   "execution_count": 75,
   "metadata": {},
   "outputs": [
    {
     "output_type": "execute_result",
     "data": {
      "text/plain": [
       "tensor([[0.3333, 0.3088, 0.2974,  ..., 0.3087, 0.3167, 0.3159],\n",
       "        [0.3333, 0.3088, 0.3003,  ..., 0.3209, 0.3149, 0.3139],\n",
       "        [0.3333, 0.2974, 0.3003,  ..., 0.3085, 0.3000, 0.2990],\n",
       "        ...,\n",
       "        [0.3333, 0.3087, 0.3209,  ..., 0.3097, 0.3119, 0.3100],\n",
       "        [0.3333, 0.3167, 0.3149,  ..., 0.3042, 0.3119, 0.3193],\n",
       "        [0.3333, 0.3159, 0.3139,  ..., 0.3033, 0.3100, 0.3193]])"
      ]
     },
     "metadata": {},
     "execution_count": 75
    }
   ],
   "source": [
    "logits"
   ]
  },
  {
   "cell_type": "code",
   "execution_count": 68,
   "metadata": {},
   "outputs": [
    {
     "output_type": "execute_result",
     "data": {
      "text/plain": [
       "torch.Size([270, 269])"
      ]
     },
     "metadata": {},
     "execution_count": 68
    }
   ],
   "source": [
    "logits.shape"
   ]
  },
  {
   "cell_type": "code",
   "execution_count": null,
   "metadata": {},
   "outputs": [],
   "source": []
  }
 ]
}